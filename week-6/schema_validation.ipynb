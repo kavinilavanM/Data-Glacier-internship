{
  "nbformat": 4,
  "nbformat_minor": 0,
  "metadata": {
    "colab": {
      "private_outputs": true,
      "provenance": [],
      "collapsed_sections": []
    },
    "kernelspec": {
      "name": "python3",
      "display_name": "Python 3"
    },
    "language_info": {
      "name": "python"
    },
    "accelerator": "GPU"
  },
  "cells": [
    {
      "cell_type": "code",
      "execution_count": null,
      "metadata": {
        "id": "8B23Ja8vnVBb"
      },
      "outputs": [],
      "source": [
        "from google.colab import drive\n",
        "drive.mount(\"/content/drive/\")"
      ]
    },
    {
      "cell_type": "code",
      "source": [
        "import zipfile\n",
        "\n",
        "!unzip /content/drive/MyDrive/data/train.csv.zip"
      ],
      "metadata": {
        "id": "w-RrjHXhojq-"
      },
      "execution_count": null,
      "outputs": []
    },
    {
      "cell_type": "code",
      "source": [
        "import glob\n",
        "\n",
        "File_paths = glob.glob(\"/content/drive/MyDrive/data/train.csv\")"
      ],
      "metadata": {
        "id": "ztHAO2lSo4ow"
      },
      "execution_count": null,
      "outputs": []
    },
    {
      "cell_type": "code",
      "source": [
        "train_folder = r\"/content/drive/MyDrive/data/train.csv\""
      ],
      "metadata": {
        "id": "_u7XHBBApkU1"
      },
      "execution_count": null,
      "outputs": []
    },
    {
      "cell_type": "code",
      "source": [
        "train_folder"
      ],
      "metadata": {
        "id": "T8Hq6aLjqVEe"
      },
      "execution_count": null,
      "outputs": []
    },
    {
      "cell_type": "code",
      "source": [
        "import os\n",
        "os.path.getsize(\"/content/train.csv\")"
      ],
      "metadata": {
        "id": "s6b6Q3-jwJgV"
      },
      "execution_count": null,
      "outputs": []
    },
    {
      "cell_type": "markdown",
      "source": [
        "### Read Data With Pandas"
      ],
      "metadata": {
        "id": "38GY78Qiw1t4"
      }
    },
    {
      "cell_type": "code",
      "source": [
        "import pandas as pd\n",
        "import time\n",
        "start = time.time()\n",
        "data_pd=pd.read_csv(\"/content/train.csv\", nrows=10000000)\n",
        "end = time.time()\n",
        "print()\n",
        "print(\"Time taken to read with pandas: \",(end-start),\"seconds\")\n",
        "print()"
      ],
      "metadata": {
        "id": "rDv3YX-3qZg2"
      },
      "execution_count": null,
      "outputs": []
    },
    {
      "cell_type": "markdown",
      "source": [
        "### Read Data With Dask"
      ],
      "metadata": {
        "id": "h9Ve26B4w-Yl"
      }
    },
    {
      "cell_type": "code",
      "source": [
        "from dask import dataframe as dd\n",
        "start = time.time()\n",
        "data_dd=pd.read_csv(\"/content/train.csv\", nrows=10000000)\n",
        "end = time.time()\n",
        "print()\n",
        "print(\"Time taken to read with Dask: \",(end-start),\"seconds\")\n",
        "print()"
      ],
      "metadata": {
        "id": "sKlH5_llxFPJ"
      },
      "execution_count": null,
      "outputs": []
    },
    {
      "cell_type": "markdown",
      "source": [
        "### Read Data With Modin"
      ],
      "metadata": {
        "id": "G2MIDWgZz5mZ"
      }
    },
    {
      "cell_type": "code",
      "source": [
        "pip install modin\n"
      ],
      "metadata": {
        "id": "nj7v2CCvziZZ"
      },
      "execution_count": null,
      "outputs": []
    },
    {
      "cell_type": "code",
      "source": [
        "import modin.pandas as mpd\n",
        "start = time.time()\n",
        "data_mpd=pd.read_csv(\"/content/train.csv\", nrows=10000000)\n",
        "end = time.time()\n",
        "print()\n",
        "print(\"Time taken to read with Modin: \",(end-start),\"seconds\")\n",
        "print()"
      ],
      "metadata": {
        "id": "wStMmwYKzaAC"
      },
      "execution_count": null,
      "outputs": []
    },
    {
      "cell_type": "code",
      "source": [
        "# dask is better than other two i.e., modin and pandas\n",
        "# 2.24 sec lesser than pandas\n",
        "# 0.09 sec lesser than modin"
      ],
      "metadata": {
        "id": "lnaT8UXt1akP"
      },
      "execution_count": null,
      "outputs": []
    },
    {
      "cell_type": "code",
      "source": [
        "data_dd.head()"
      ],
      "metadata": {
        "id": "a5hTXpjc2_DS"
      },
      "execution_count": null,
      "outputs": []
    },
    {
      "cell_type": "code",
      "source": [
        "data_dd.info()"
      ],
      "metadata": {
        "id": "gD9wr4MI1anT"
      },
      "execution_count": null,
      "outputs": []
    },
    {
      "cell_type": "code",
      "source": [
        "data_dd.columns"
      ],
      "metadata": {
        "id": "3vUHI-SS1ap-"
      },
      "execution_count": null,
      "outputs": []
    },
    {
      "cell_type": "code",
      "source": [
        "df=data_dd.copy()"
      ],
      "metadata": {
        "id": "bmnqFY3g7S-g"
      },
      "execution_count": null,
      "outputs": []
    },
    {
      "cell_type": "code",
      "source": [
        "\n",
        "import logging\n",
        "import os\n",
        "import subprocess\n",
        "import yaml\n",
        "import pandas as pd\n",
        "import datetime \n",
        "import gc\n",
        "import re"
      ],
      "metadata": {
        "id": "_2Lk_ELt1atR"
      },
      "execution_count": null,
      "outputs": []
    },
    {
      "cell_type": "code",
      "source": [
        "%%writefile testutility.py\n",
        "import logging\n",
        "import os\n",
        "import subprocess\n",
        "import yaml\n",
        "import pandas as pd\n",
        "import datetime \n",
        "import gc\n",
        "import re\n",
        "\n",
        "\n",
        "################\n",
        "# File Reading #\n",
        "################\n",
        "\n",
        "def read_config_file(filepath):\n",
        "    with open(filepath, 'r') as stream:\n",
        "        try:\n",
        "            return yaml.safe_load(stream)\n",
        "        except yaml.YAMLError as exc:\n",
        "            logging.error(exc)\n",
        "\n",
        "\n",
        "def replacer(string, char):\n",
        "    pattern = char + '{2,}'\n",
        "    string = re.sub(pattern, char, string) \n",
        "    return string\n",
        "\n",
        "def col_header_val(df,table_config):\n",
        "    '''\n",
        "    replace whitespaces in the column\n",
        "    and standardized column names\n",
        "    '''\n",
        "    df.columns = df.columns.str.lower()\n",
        "    df.columns = df.columns.str.replace('[^\\w]','_',regex=True)\n",
        "    df.columns = list(map(lambda x: x.strip('_'), list(df.columns)))\n",
        "    df.columns = list(map(lambda x: replacer(x,'_'), list(df.columns)))\n",
        "    expected_col = list(map(lambda x: x.lower(),  table_config['columns']))\n",
        "    expected_col.sort()\n",
        "    df.columns =list(map(lambda x: x.lower(), list(df.columns)))\n",
        "    df = df.reindex(sorted(df.columns), axis=1)\n",
        "    if len(df.columns) == len(expected_col) and list(expected_col)  == list(df.columns):\n",
        "        print(\"column name and column length validation passed\")\n",
        "        return 1\n",
        "    else:\n",
        "        print(\"column name and column length validation failed\")\n",
        "        mismatched_columns_file = list(set(df.columns).difference(expected_col))\n",
        "        print(\"Following File columns are not in the YAML file\",mismatched_columns_file)\n",
        "        missing_YAML_file = list(set(expected_col).difference(df.columns))\n",
        "        print(\"Following YAML columns are not in the file uploaded\",missing_YAML_file)\n",
        "        logging.info(f'df columns: {df.columns}')\n",
        "        logging.info(f'expected columns: {expected_col}')\n",
        "        return 0"
      ],
      "metadata": {
        "id": "o4ET3W7h4Vsu"
      },
      "execution_count": null,
      "outputs": []
    },
    {
      "cell_type": "code",
      "source": [
        "df.info()"
      ],
      "metadata": {
        "id": "ezmnAwTN8THH"
      },
      "execution_count": null,
      "outputs": []
    },
    {
      "cell_type": "code",
      "source": [
        "%%writefile file.yaml\n",
        "file_type: csv\n",
        "dataset_name: file\n",
        "file_name: train\n",
        "table_name: edsurv\n",
        "inbound_delimiter: \",\"\n",
        "outbound_delimiter: \"|\"\n",
        "skip_leading_rows: 1\n",
        "columns: \n",
        "      - row_id\n",
        "      - timestamp\n",
        "      - user_id\n",
        "      - content_id\n",
        "      - content_type_id\n",
        "      - task_container_id\n",
        "      - user_answer\n",
        "      - answered_correctly\n",
        "      - prior_question_elapsed_time\n",
        "      - prior_question_had_explanation"
      ],
      "metadata": {
        "id": "l87ORfyG7284"
      },
      "execution_count": null,
      "outputs": []
    },
    {
      "cell_type": "code",
      "source": [
        "import yaml\n",
        "import testutility as util\n",
        "config_data = util.read_config_file(\"/content/file.yaml\")"
      ],
      "metadata": {
        "id": "CRkrQfDX73AQ"
      },
      "execution_count": null,
      "outputs": []
    },
    {
      "cell_type": "code",
      "source": [
        "config_data['inbound_delimiter']"
      ],
      "metadata": {
        "id": "zIK3rhzWFgpr"
      },
      "execution_count": null,
      "outputs": []
    },
    {
      "cell_type": "code",
      "source": [
        "#inspecting data of config file\n",
        "config_data"
      ],
      "metadata": {
        "id": "cNCErPxtGmV5"
      },
      "execution_count": null,
      "outputs": []
    },
    {
      "cell_type": "code",
      "source": [
        "#Reading the file using config file\n",
        "file_type = config_data['file_type']\n",
        "source_file =\"./\" + config_data['file_name'] + f'.{file_type}'"
      ],
      "metadata": {
        "id": "I1JxSNXeLx2H"
      },
      "execution_count": null,
      "outputs": []
    },
    {
      "cell_type": "code",
      "source": [
        "import pandas as pd\n",
        "df = pd.read_csv(source_file,config_data['inbound_delimiter'],nrows=10000000)\n",
        "df.head()"
      ],
      "metadata": {
        "id": "Fb2j5V7xLx4v"
      },
      "execution_count": null,
      "outputs": []
    },
    {
      "cell_type": "code",
      "source": [
        "#validating the header of the file\n",
        "util.col_header_val(df,config_data)"
      ],
      "metadata": {
        "id": "q5icSobOLx8m"
      },
      "execution_count": null,
      "outputs": []
    },
    {
      "cell_type": "code",
      "source": [
        "print(\"columns of files are:\" ,df.columns)\n",
        "print(\"columns of YAML are:\" ,config_data['columns'])"
      ],
      "metadata": {
        "id": "nKjZzpLfLx_U"
      },
      "execution_count": null,
      "outputs": []
    },
    {
      "cell_type": "code",
      "source": [
        "if util.col_header_val(df,config_data)==0:\n",
        "    print(\"validation failed\")\n",
        "else:\n",
        "    print(\"col validation passed\")"
      ],
      "metadata": {
        "id": "lHWZViWwLyCa"
      },
      "execution_count": null,
      "outputs": []
    }
  ]
}